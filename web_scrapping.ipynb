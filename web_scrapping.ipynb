{
 "cells": [
  {
   "cell_type": "code",
   "execution_count": 1,
   "metadata": {
    "collapsed": true
   },
   "outputs": [],
   "source": [
    "import bs4 as bs\n",
    "import urllib"
   ]
  },
  {
   "cell_type": "code",
   "execution_count": 2,
   "metadata": {
    "collapsed": true
   },
   "outputs": [],
   "source": [
    "link = 'https://www.ted.com/talks/grady_booch_don_t_fear_superintelligence'         # <<<<<< Enter the link here!!!\n",
    "source_code = urllib.urlopen(link+'/transcript').read()"
   ]
  },
  {
   "cell_type": "code",
   "execution_count": 3,
   "metadata": {
    "collapsed": true
   },
   "outputs": [],
   "source": [
    "soup = bs.BeautifulSoup(source_code,'lxml')"
   ]
  },
  {
   "cell_type": "code",
   "execution_count": 4,
   "metadata": {
    "collapsed": true
   },
   "outputs": [],
   "source": [
    "f = open('text.txt','w+')\n",
    "for paragraph in soup.find_all('p'):\n",
    "    t = (paragraph.text)\n",
    "    t = t.encode(\"utf-8\")                         # Encoding in 'utf-8' format. Python uses 'ASCII' by default.\n",
    "    f.write(t)\n",
    "f.close()"
   ]
  },
  {
   "cell_type": "code",
   "execution_count": 5,
   "metadata": {
    "collapsed": true
   },
   "outputs": [],
   "source": [
    "import re\n",
    "\n",
    "with open('text.txt','rb') as f:\n",
    "    t = f.read()\n",
    "    \n",
    "    with open('text_mod.txt','w+') as f2:\n",
    "        t1 = re.sub(r'\\n',' ',t)\n",
    "        t1 = re.sub(r'\\t',' ',t)\n",
    "        t1 = re.sub(r'\\(\\w+\\)',' ',t)\n",
    "        t1 = ' '.join(t1.split())\n",
    "        \n",
    "        f2.write(t1)"
   ]
  },
  {
   "cell_type": "code",
   "execution_count": null,
   "metadata": {
    "collapsed": true
   },
   "outputs": [],
   "source": []
  }
 ],
 "metadata": {
  "kernelspec": {
   "display_name": "Python 2",
   "language": "python",
   "name": "python2"
  },
  "language_info": {
   "codemirror_mode": {
    "name": "ipython",
    "version": 2
   },
   "file_extension": ".py",
   "mimetype": "text/x-python",
   "name": "python",
   "nbconvert_exporter": "python",
   "pygments_lexer": "ipython2",
   "version": "2.7.13"
  }
 },
 "nbformat": 4,
 "nbformat_minor": 2
}
